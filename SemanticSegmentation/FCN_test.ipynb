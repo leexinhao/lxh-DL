{
 "cells": [
  {
   "cell_type": "code",
   "execution_count": 15,
   "metadata": {},
   "outputs": [],
   "source": [
    "import os\n",
    "import torch\n",
    "from torch import nn\n",
    "import torchvision\n",
    "import matplotlib.pyplot as plt\n",
    "from models.FCN import get_FCN\n",
    "from dataloaders.VOCSegmentation import load_VOCSegmentation, read_voc_images, label2image\n",
    "from tools.model_trainer import train_model\n",
    "from tools.utils import show_images"
   ]
  },
  {
   "cell_type": "code",
   "execution_count": 2,
   "metadata": {},
   "outputs": [
    {
     "name": "stdout",
     "output_type": "stream",
     "text": [
      "Size of Trian Set: 557\n",
      "Size of Test Set: 539\n",
      "torch.Size([2, 3, 320, 480]) torch.Size([2, 320, 480])\n"
     ]
    }
   ],
   "source": [
    "batch_size, crop_size = 2, (320, 480)\n",
    "train_iter, test_iter = load_VOCSegmentation(batch_size, crop_size)\n",
    "print(f\"Size of Trian Set: {len(train_iter)}\")\n",
    "print(f\"Size of Test Set: {len(test_iter)}\")\n",
    "for X, y in test_iter:\n",
    "    print(X.shape, y.shape)\n",
    "    break"
   ]
  },
  {
   "cell_type": "code",
   "execution_count": 3,
   "metadata": {},
   "outputs": [],
   "source": [
    "net = get_FCN(num_classes=21)"
   ]
  },
  {
   "cell_type": "code",
   "execution_count": 4,
   "metadata": {},
   "outputs": [
    {
     "name": "stdout",
     "output_type": "stream",
     "text": [
      "device: cuda\n",
      "training on cuda\n",
      "Epoch 1/2\n",
      "557/557 [===============] Train Loss: 1.2200, Train Accuracy: 0.7328, Valid Loss: 0.8326, Valid Accuracy: 0.7874, Cost Time 17.0431 sec\n",
      "Epoch 2/2\n",
      "557/557 [===============] Train Loss: 0.9451, Train Accuracy: 0.7703, Valid Loss: 0.6904, Valid Accuracy: 0.8116, Cost Time 17.0174 sec\n",
      "Train result\n",
      "loss 0.9451\n",
      "final train Accuracy 0.7703\n",
      "final valid Accuracy 0.8116\n",
      "65.4130 examples/sec on cuda\n",
      "17.0303 sec/epoch on cuda\n"
     ]
    }
   ],
   "source": [
    "def loss(inputs, targets):\n",
    "    from torch.nn import functional as F\n",
    "    return F.cross_entropy(inputs, targets, reduction='none').mean(1).mean(1)\n",
    "\n",
    "\n",
    "\n",
    "num_epochs, lr, wd = 2, 0.001, 1e-3\n",
    "device =  'cuda' if torch.cuda.is_available() else 'cpu'\n",
    "print(f'device: {device}')\n",
    "trainer = torch.optim.SGD(net.parameters(), lr=lr, weight_decay=wd)\n",
    "\n",
    "train_model(net, train_iter, test_iter, loss, ['accuracy'], trainer, num_epochs, device, multlabel=True)\n"
   ]
  },
  {
   "cell_type": "code",
   "execution_count": 5,
   "metadata": {},
   "outputs": [
    {
     "name": "stdout",
     "output_type": "stream",
     "text": [
      "Test result\n",
      "Number of instances: 1078\n",
      "Number of batches: 539\n",
      "Size of an element: 165580800.0\n",
      "Avg loss of each instance: 0.701874\n",
      "Accuracy: 0.8097\n",
      "Time spent: 3.7232534885406494 sec\n",
      "289.5317 examples/sec\n",
      "0.0069 sec/batch on cuda\n"
     ]
    },
    {
     "data": {
      "text/plain": [
       "(0.7018743783567302, [0.8097174189277984])"
      ]
     },
     "execution_count": 5,
     "metadata": {},
     "output_type": "execute_result"
    }
   ],
   "source": [
    "from tools.model_tester import test_model\n",
    "test_model(net, test_iter, loss, [\"accuracy\"], device)"
   ]
  },
  {
   "cell_type": "code",
   "execution_count": 5,
   "metadata": {},
   "outputs": [
    {
     "name": "stdout",
     "output_type": "stream",
     "text": [
      "device: cuda\n",
      "training on cuda\n",
      "Epoch 1/10\n",
      "34/34 [===============] Train Loss: 1.1446, Train Accuracy: 0.7455, Valid Loss: 0.6860, Valid Accuracy: 0.7995, Cost Time 7.2649 sec\n",
      "Epoch 2/10\n",
      "34/34 [===============] Train Loss: 0.6137, Train Accuracy: 0.8279, Valid Loss: 0.5549, Valid Accuracy: 0.8204, Cost Time 7.2424 sec\n",
      "Epoch 3/10\n",
      "34/34 [===============] Train Loss: 0.5131, Train Accuracy: 0.8464, Valid Loss: 0.5168, Valid Accuracy: 0.8259, Cost Time 7.2476 sec\n",
      "Epoch 4/10\n",
      "34/34 [===============] Train Loss: 0.4550, Train Accuracy: 0.8600, Valid Loss: 0.4862, Valid Accuracy: 0.8313, Cost Time 7.2351 sec\n",
      "Epoch 5/10\n",
      "34/34 [===============] Train Loss: 0.4142, Train Accuracy: 0.8698, Valid Loss: 0.4807, Valid Accuracy: 0.8313, Cost Time 7.2427 sec\n",
      "Epoch 6/10\n",
      "34/34 [===============] Train Loss: 0.3807, Train Accuracy: 0.8781, Valid Loss: 0.4634, Valid Accuracy: 0.8346, Cost Time 7.2460 sec\n",
      "Epoch 7/10\n",
      "34/34 [===============] Train Loss: 0.3513, Train Accuracy: 0.8865, Valid Loss: 0.4526, Valid Accuracy: 0.8386, Cost Time 7.2339 sec\n",
      "Epoch 8/10\n",
      "34/34 [===============] Train Loss: 0.3357, Train Accuracy: 0.8904, Valid Loss: 0.4502, Valid Accuracy: 0.8392, Cost Time 7.2433 sec\n",
      "Epoch 9/10\n",
      "34/34 [===============] Train Loss: 0.3178, Train Accuracy: 0.8956, Valid Loss: 0.4496, Valid Accuracy: 0.8406, Cost Time 7.2449 sec\n",
      "Epoch 10/10\n",
      "34/34 [===============] Train Loss: 0.3057, Train Accuracy: 0.8997, Valid Loss: 0.4511, Valid Accuracy: 0.8407, Cost Time 7.2492 sec\n",
      "Train result\n",
      "loss 0.3057\n",
      "final train Accuracy 0.8997\n",
      "final valid Accuracy 0.8407\n",
      "150.1724 examples/sec on cuda\n",
      "7.2450 sec/epoch on cuda\n"
     ]
    }
   ],
   "source": [
    "batch_size, crop_size = 32, (320, 480)\n",
    "train_iter, test_iter = load_VOCSegmentation(batch_size, crop_size)\n",
    "net = get_FCN(num_classes=21)\n",
    "num_epochs, lr, wd = 10, 0.001, 1e-3\n",
    "device =  'cuda' if torch.cuda.is_available() else 'cpu'\n",
    "print(f'device: {device}')\n",
    "trainer = torch.optim.SGD(net.parameters(), lr=lr, weight_decay=wd)\n",
    "\n",
    "train_model(net, train_iter, test_iter, loss, ['accuracy'], trainer, num_epochs, device, multlabel=True)"
   ]
  },
  {
   "cell_type": "code",
   "execution_count": 6,
   "metadata": {},
   "outputs": [],
   "source": [
    "def predict(img):\n",
    "    X = test_iter.dataset.normalize_image(img).unsqueeze(0)\n",
    "    pred = net(X.to(device)).argmax(dim=1)\n",
    "    return pred.reshape(pred.shape[1], pred.shape[2])"
   ]
  },
  {
   "cell_type": "code",
   "execution_count": 22,
   "metadata": {},
   "outputs": [
    {
     "data": {
      "text/plain": [
       "array([<AxesSubplot:>, <AxesSubplot:>, <AxesSubplot:>, <AxesSubplot:>,\n",
       "       <AxesSubplot:>, <AxesSubplot:>, <AxesSubplot:>, <AxesSubplot:>,\n",
       "       <AxesSubplot:>, <AxesSubplot:>, <AxesSubplot:>, <AxesSubplot:>],\n",
       "      dtype=object)"
      ]
     },
     "execution_count": 22,
     "metadata": {},
     "output_type": "execute_result"
    },
    {
     "data": {
      "image/png": "[encoded data removed]",
      "text/plain": [
       "<Figure size 576x432 with 12 Axes>"
      ]
     },
     "metadata": {
      "needs_background": "light"
     },
     "output_type": "display_data"
    }
   ],
   "source": [
    "voc_dir = \"./Datasets/VOCdevkit/VOC2012\"\n",
    "test_images, test_labels = read_voc_images(voc_dir, False)\n",
    "n, imgs = 4, []\n",
    "for i in range(100, n+4):\n",
    "    crop_rect = (0, 0, 320, 480)\n",
    "    X = torchvision.transforms.functional.crop(test_images[i], *crop_rect)\n",
    "    pred = label2image(predict(X))\n",
    "    imgs += [X.permute(1,2,0), pred.cpu(),\n",
    "             torchvision.transforms.functional.crop(\n",
    "                 test_labels[i], *crop_rect).permute(1,2,0)]\n",
    "show_images(imgs[::3] + imgs[1::3] + imgs[2::3], 3, n, scale=2)"
   ]
  },
  {
   "cell_type": "code",
   "execution_count": null,
   "metadata": {},
   "outputs": [],
   "source": []
  }
 ],
 "metadata": {
  "kernelspec": {
   "display_name": "Python 3.8.13 ('lxh_torch')",
   "language": "python",
   "name": "python3"
  },
  "language_info": {
   "codemirror_mode": {
    "name": "ipython",
    "version": 3
   },
   "file_extension": ".py",
   "mimetype": "text/x-python",
   "name": "python",
   "nbconvert_exporter": "python",
   "pygments_lexer": "ipython3",
   "version": "3.8.13"
  },
  "vscode": {
   "interpreter": {
    "hash": "fb77aeec5054e84546dc2ca96ef1e11ed98c3d9028ce32636c72fd649803b774"
   }
  }
 },
 "nbformat": 4,
 "nbformat_minor": 4
}
