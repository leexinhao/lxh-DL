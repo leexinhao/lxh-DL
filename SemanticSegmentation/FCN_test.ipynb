{
 "cells": [
  {
   "cell_type": "code",
   "execution_count": 6,
   "metadata": {},
   "outputs": [],
   "source": [
    "import os\n",
    "import torch\n",
    "from torch import nn\n",
    "import torchvision\n",
    "import matplotlib.pyplot as plt\n",
    "from models.FCN import get_FCN\n",
    "from dataloaders.VOCSegmentation import load_VOCSegmentation\n",
    "from tools.model_trainer import train_model"
   ]
  },
  {
   "cell_type": "code",
   "execution_count": 8,
   "metadata": {},
   "outputs": [
    {
     "name": "stdout",
     "output_type": "stream",
     "text": [
      "Size of Trian Set: 557\n",
      "Size of Test Set: 539\n",
      "torch.Size([2, 3, 320, 480]) torch.Size([2, 320, 480])\n"
     ]
    }
   ],
   "source": [
    "batch_size, crop_size = 2, (320, 480)\n",
    "train_iter, test_iter = load_VOCSegmentation(batch_size, crop_size)\n",
    "print(f\"Size of Trian Set: {len(train_iter)}\")\n",
    "print(f\"Size of Test Set: {len(test_iter)}\")\n",
    "for X, y in test_iter:\n",
    "    print(X.shape, y.shape)\n",
    "    break"
   ]
  },
  {
   "cell_type": "code",
   "execution_count": 9,
   "metadata": {},
   "outputs": [],
   "source": [
    "net = get_FCN(num_classes=21)"
   ]
  },
  {
   "cell_type": "code",
   "execution_count": 10,
   "metadata": {},
   "outputs": [
    {
     "name": "stdout",
     "output_type": "stream",
     "text": [
      "device: cpu\n",
      "training on cpu\n",
      "Epoch 1/1\n",
      "557/557 [===============] Train Loss: 2.4672, Train Accuracy: 112725.9596, Valid Loss: 1.7059, Valid Accuracy: 120282.6308, Cost Time 268.4471 sec\n",
      "Train result\n",
      "loss 2.4672\n",
      "final train Accuracy 112725.9596\n",
      "final valid Accuracy 120282.6308\n",
      "4.1498 examples/sec on cpu\n",
      "268.4471 sec/epoch on cpu\n"
     ]
    }
   ],
   "source": [
    "def loss(inputs, targets):\n",
    "    from torch.nn import functional as F\n",
    "    return F.cross_entropy(inputs, targets, reduction='none').mean(1).mean(1)\n",
    "\n",
    "\n",
    "\n",
    "num_epochs, lr, wd = 1, 0.001, 1e-3\n",
    "device =  'cuda' if torch.cuda.is_available() else 'cpu'\n",
    "print(f'device: {device}')\n",
    "trainer = torch.optim.SGD(net.parameters(), lr=lr, weight_decay=wd)\n",
    "\n",
    "train_model(net, train_iter, test_iter, loss, ['accuracy'], trainer, num_epochs, device, multlabel=True)\n"
   ]
  },
  {
   "cell_type": "code",
   "execution_count": 11,
   "metadata": {},
   "outputs": [
    {
     "name": "stdout",
     "output_type": "stream",
     "text": [
      "Test result\n",
      "Number of instances: 1078\n",
      "Number of batches: 539\n",
      "Avg loss of each batch: 1.708711\n",
      "Accuracy: 120253.3061\n",
      "Time spent: 187.52823185920715 sec\n",
      "5.7485 examples/sec\n",
      "0.3479 sec/batch on cpu\n"
     ]
    },
    {
     "data": {
      "text/plain": [
       "(1.7087105482208484, [120253.30612244898])"
      ]
     },
     "execution_count": 11,
     "metadata": {},
     "output_type": "execute_result"
    }
   ],
   "source": [
    "from tools.model_tester import test_model\n",
    "test_model(net, test_iter, loss, [\"accuracy\"], device)"
   ]
  },
  {
   "cell_type": "code",
   "execution_count": 12,
   "metadata": {},
   "outputs": [
    {
     "data": {
      "text/plain": [
       "24"
      ]
     },
     "execution_count": 12,
     "metadata": {},
     "output_type": "execute_result"
    }
   ],
   "source": [
    "a = torch.rand((3, 4, 2))\n",
    "a.numel()"
   ]
  },
  {
   "cell_type": "code",
   "execution_count": null,
   "metadata": {},
   "outputs": [],
   "source": []
  }
 ],
 "metadata": {
  "interpreter": {
   "hash": "fb77aeec5054e84546dc2ca96ef1e11ed98c3d9028ce32636c72fd649803b774"
  },
  "kernelspec": {
   "display_name": "Python 3.8.13 ('lxh_torch')",
   "language": "python",
   "name": "python3"
  },
  "language_info": {
   "codemirror_mode": {
    "name": "ipython",
    "version": 3
   },
   "file_extension": ".py",
   "mimetype": "text/x-python",
   "name": "python",
   "nbconvert_exporter": "python",
   "pygments_lexer": "ipython3",
   "version": "3.8.13"
  },
  "orig_nbformat": 4
 },
 "nbformat": 4,
 "nbformat_minor": 2
}
